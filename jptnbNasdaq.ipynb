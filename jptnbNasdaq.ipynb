{
 "cells": [
  {
   "cell_type": "markdown",
   "id": "e7dcfd88",
   "metadata": {},
   "source": [
    "<h1><p style=\"text-align: center;\">Portfolio Evaluation of the Nasdaq-100 Stock Index using the Markowitz Portfolio Theory</p></h1>\n",
    "\n",
    "  <h2>Introduction</h2>\n",
    "  <p>The Nasdaq-100 is an index created by the National Association of Securities Dealers Automated Quotation (NASDAQ). This index portfolio, as stated on the official website, comprises \"100 of the largest and most innovative non-financial companies listed on the Nasdaq Stock Market based on market capitalization.\"</p>\n",
    "  <p>On the other hand, we have the Markowitz Portfolio Theory. Harry Markowitz, an American economist, discovered a mathematical method to determine the optimum portfolio configuration through linear optimization.</p>\n",
    "  <p>Here, we will conduct a brief analysis of the Nasdaq-100 index using the Markowitz Theory.</p>\n",
    "\n",
    "  <h2>Markowitz Portfolio Theory</h2>\n",
    "  <p>The Markowitz Portfolio Theory, developed by Harry Markowitz in 1952, revolutionized investment strategy by introducing a systematic approach to balancing risk and return. The theory emphasizes diversification as a means to reduce portfolio risk, advocating for the combination of assets with low correlations. By spreading investments across various assets, the impact of poor-performing investments can be mitigated. Markowitz introduced the concept of the efficient frontier, a set of portfolios that maximize expected return for a given level of risk or minimize risk for a given level of expected return. The efficient frontier illustrates the optimal trade-off between risk and return. Additionally, the theory incorporates the notion of a risk-free asset, allowing investors to construct portfolios along the Capital Market Line, a tangent line from the risk-free rate to the efficient frontier. This line represents portfolios comprising a risk-free asset and a risky portfolio, accommodating individual risk preferences. Markowitz's groundbreaking work laid the foundation for modern portfolio management, influencing how investors construct portfolios to achieve their financial objectives while navigating the complexities of risk in financial markets.</p>\n",
    "  <h2>Nasdaq-100</h2>\n",
    "  <p>The Nasdaq-100, or simply Nasdaq, is a stock market index that tracks the performance of 100 of the largest non-financial companies listed on the Nasdaq Stock Market. Notable for its technology-heavy composition, the Nasdaq-100 includes prominent companies like Apple, Amazon, Microsoft, and Google's parent company, Alphabet. As a market-capitalization-weighted index, larger companies have a more significant impact on its value. The Nasdaq-100 is renowned for its focus on innovative and high-growth sectors such as technology, biotechnology, and telecommunications. It serves as a benchmark for investors interested in gauging the performance of the broader technology and growth-oriented segments of the stock market. Investors often use financial products like exchange-traded funds (ETFs) that track the Nasdaq-100 to gain exposure to this dynamic and influential index, which reflects the evolving landscape of the global economy driven by technological advancements.</p>\n",
    "  <p>To download the portfolio composition of the Nasdaq-100, I utilize the holdings information of the <em>iShares NASDAQ-100 ETF.</em> The data is saved in the document \"EXXT_holdings\".</p>"
   ]
  },
  {
   "cell_type": "code",
   "execution_count": 1,
   "id": "0ed53304",
   "metadata": {},
   "outputs": [],
   "source": [
    "%%capture\n",
    "import pandas as pd\n",
    "import yfinance as yf\n",
    "import numpy as np\n",
    "import matplotlib.pyplot as plt\n",
    "import seaborn as sns\n",
    "\n",
    "datosNasdaq = pd.read_csv(\"EXXT_holdings.csv\")\n",
    "# Filtrar los Tickers con un peso diferente de 0%\n",
    "datosNasdaq = datosNasdaq[datosNasdaq[\"Weight (%)\"] != 0]\n"
   ]
  },
  {
   "cell_type": "markdown",
   "id": "55216768",
   "metadata": {},
   "source": [
    "<p> The Nasdaq-100 companies are the following: </p>"
   ]
  },
  {
   "cell_type": "code",
   "execution_count": 2,
   "id": "eb207892",
   "metadata": {
    "scrolled": true
   },
   "outputs": [
    {
     "name": "stdout",
     "output_type": "stream",
     "text": [
      "['AAPL', 'MSFT', 'AMZN', 'NVDA', 'META', 'GOOGL', 'GOOG', 'AVGO', 'TSLA', 'ADBE', 'COST', 'PEP', 'CSCO', 'NFLX', 'CMCSA', 'AMD', 'TMUS', 'AMGN', 'INTC', 'INTU', 'TXN', 'QCOM', 'HON', 'AMAT', 'SBUX', 'ADP', 'BKNG', 'GILD', 'ISRG', 'VRTX', 'MDLZ', 'REGN', 'ADI', 'LRCX', 'PANW', 'MU', 'SNPS', 'PDD', 'CDNS', 'CHTR', 'KLAC', 'CSX', 'PYPL', 'MELI', 'MAR', 'ORLY', 'MNST', 'ASML', 'CTAS', 'ABNB', 'LULU', 'NXPI', 'FTNT', 'WDAY', 'ADSK', 'ODFL', 'PCAR', 'MRVL', 'PAYX', 'CPRT', 'MCHP', 'CRWD', 'SGEN', 'KDP', 'ROST', 'EXC', 'KHC', 'AZN', 'AEP', 'BIIB', 'ON', 'CEG', 'IDXX', 'BKR', 'EA', 'VRSK', 'CTSH', 'DXCM', 'TTD', 'FAST', 'XEL', 'MRNA', 'CSGP', 'FANG', 'GFS', 'GEHC', 'TEAM', 'DDOG', 'WBD', 'DLTR', 'ANSS', 'ZS', 'EBAY', 'ALGN', 'ILMN', 'USD', 'WBA', 'SIRI', 'ZM', 'ENPH', 'JD', 'LCID', 'MLIFT']\n"
     ]
    }
   ],
   "source": [
    "# Define el símbolo de las acciones en Fund_Holding\n",
    "Fund_Holding = datosNasdaq['Ticker']\n",
    "print(list(Fund_Holding))"
   ]
  },
  {
   "cell_type": "markdown",
   "id": "5d244a0b",
   "metadata": {},
   "source": [
    "<h2>Methodology</h2> \n",
    "<p>First of all, the data should be downloaded from Yahoo Finance, to calculate the logarithmic return for each holding using the following equation:</p>\n",
    "<p style= \"text-align: center;\"><var>log(Pf/Pi)</var></p>\n",
    "\n",
    "<p>The data will be downloaded from January 1, 2023 to October 20 of the same year.</p>\n"
   ]
  },
  {
   "cell_type": "code",
   "execution_count": 3,
   "id": "c0b09559",
   "metadata": {},
   "outputs": [
    {
     "name": "stdout",
     "output_type": "stream",
     "text": [
      "[*********************100%%**********************]  1 of 1 completed\n",
      "[*********************100%%**********************]  1 of 1 completed\n",
      "[*********************100%%**********************]  1 of 1 completed\n",
      "[*********************100%%**********************]  1 of 1 completed\n",
      "[*********************100%%**********************]  1 of 1 completed\n",
      "[*********************100%%**********************]  1 of 1 completed\n",
      "[*********************100%%**********************]  1 of 1 completed\n",
      "[*********************100%%**********************]  1 of 1 completed\n",
      "[*********************100%%**********************]  1 of 1 completed\n",
      "[*********************100%%**********************]  1 of 1 completed\n",
      "[*********************100%%**********************]  1 of 1 completed\n",
      "[*********************100%%**********************]  1 of 1 completed\n",
      "[*********************100%%**********************]  1 of 1 completed\n",
      "[*********************100%%**********************]  1 of 1 completed\n",
      "[*********************100%%**********************]  1 of 1 completed\n",
      "[*********************100%%**********************]  1 of 1 completed\n",
      "[*********************100%%**********************]  1 of 1 completed\n",
      "[*********************100%%**********************]  1 of 1 completed\n",
      "[*********************100%%**********************]  1 of 1 completed\n",
      "[*********************100%%**********************]  1 of 1 completed\n",
      "[*********************100%%**********************]  1 of 1 completed\n",
      "[*********************100%%**********************]  1 of 1 completed\n",
      "[*********************100%%**********************]  1 of 1 completed\n",
      "[*********************100%%**********************]  1 of 1 completed\n",
      "[*********************100%%**********************]  1 of 1 completed\n",
      "[*********************100%%**********************]  1 of 1 completed\n",
      "[*********************100%%**********************]  1 of 1 completed\n",
      "[*********************100%%**********************]  1 of 1 completed\n",
      "[*********************100%%**********************]  1 of 1 completed\n",
      "[*********************100%%**********************]  1 of 1 completed\n",
      "[*********************100%%**********************]  1 of 1 completed\n",
      "[*********************100%%**********************]  1 of 1 completed\n",
      "[*********************100%%**********************]  1 of 1 completed\n",
      "[*********************100%%**********************]  1 of 1 completed\n",
      "[*********************100%%**********************]  1 of 1 completed\n",
      "[*********************100%%**********************]  1 of 1 completed\n",
      "[*********************100%%**********************]  1 of 1 completed\n",
      "[*********************100%%**********************]  1 of 1 completed\n",
      "[*********************100%%**********************]  1 of 1 completed\n",
      "[*********************100%%**********************]  1 of 1 completed\n",
      "[*********************100%%**********************]  1 of 1 completed\n",
      "[*********************100%%**********************]  1 of 1 completed\n",
      "[*********************100%%**********************]  1 of 1 completed\n",
      "[*********************100%%**********************]  1 of 1 completed\n",
      "[*********************100%%**********************]  1 of 1 completed\n",
      "[*********************100%%**********************]  1 of 1 completed\n",
      "[*********************100%%**********************]  1 of 1 completed\n",
      "[*********************100%%**********************]  1 of 1 completed\n",
      "[*********************100%%**********************]  1 of 1 completed\n",
      "[*********************100%%**********************]  1 of 1 completed\n",
      "[*********************100%%**********************]  1 of 1 completed\n",
      "[*********************100%%**********************]  1 of 1 completed\n",
      "[*********************100%%**********************]  1 of 1 completed\n",
      "[*********************100%%**********************]  1 of 1 completed\n",
      "[*********************100%%**********************]  1 of 1 completed\n",
      "[*********************100%%**********************]  1 of 1 completed\n",
      "[*********************100%%**********************]  1 of 1 completed\n",
      "[*********************100%%**********************]  1 of 1 completed\n",
      "[*********************100%%**********************]  1 of 1 completed\n",
      "[*********************100%%**********************]  1 of 1 completed\n",
      "[*********************100%%**********************]  1 of 1 completed\n",
      "[*********************100%%**********************]  1 of 1 completed\n",
      "[*********************100%%**********************]  1 of 1 completed\n",
      "[*********************100%%**********************]  1 of 1 completed\n",
      "[*********************100%%**********************]  1 of 1 completed\n",
      "[*********************100%%**********************]  1 of 1 completed\n",
      "[*********************100%%**********************]  1 of 1 completed\n",
      "[*********************100%%**********************]  1 of 1 completed\n",
      "[*********************100%%**********************]  1 of 1 completed\n",
      "[*********************100%%**********************]  1 of 1 completed\n",
      "[*********************100%%**********************]  1 of 1 completed\n",
      "[*********************100%%**********************]  1 of 1 completed\n",
      "[*********************100%%**********************]  1 of 1 completed\n",
      "[*********************100%%**********************]  1 of 1 completed\n",
      "[*********************100%%**********************]  1 of 1 completed\n",
      "[*********************100%%**********************]  1 of 1 completed\n",
      "[*********************100%%**********************]  1 of 1 completed\n",
      "[*********************100%%**********************]  1 of 1 completed\n",
      "[*********************100%%**********************]  1 of 1 completed\n",
      "[*********************100%%**********************]  1 of 1 completed\n",
      "[*********************100%%**********************]  1 of 1 completed\n",
      "[*********************100%%**********************]  1 of 1 completed\n",
      "[*********************100%%**********************]  1 of 1 completed\n",
      "[*********************100%%**********************]  1 of 1 completed\n",
      "[*********************100%%**********************]  1 of 1 completed\n",
      "[*********************100%%**********************]  1 of 1 completed\n",
      "[*********************100%%**********************]  1 of 1 completed\n",
      "[*********************100%%**********************]  1 of 1 completed\n",
      "[*********************100%%**********************]  1 of 1 completed\n",
      "[*********************100%%**********************]  1 of 1 completed\n",
      "[*********************100%%**********************]  1 of 1 completed\n",
      "[*********************100%%**********************]  1 of 1 completed\n",
      "[*********************100%%**********************]  1 of 1 completed\n",
      "[*********************100%%**********************]  1 of 1 completed\n",
      "[*********************100%%**********************]  1 of 1 completed\n",
      "[*********************100%%**********************]  1 of 1 completed\n",
      "[*********************100%%**********************]  1 of 1 completed\n",
      "[*********************100%%**********************]  1 of 1 completed\n",
      "[*********************100%%**********************]  1 of 1 completed\n",
      "[*********************100%%**********************]  1 of 1 completed\n",
      "[*********************100%%**********************]  1 of 1 completed\n"
     ]
    },
    {
     "name": "stderr",
     "output_type": "stream",
     "text": [
      "C:\\Users\\juan_\\AppData\\Local\\Temp\\ipykernel_34132\\4124913625.py:10: PerformanceWarning: DataFrame is highly fragmented.  This is usually the result of calling `frame.insert` many times, which has poor performance.  Consider joining all columns at once using pd.concat(axis=1) instead. To get a de-fragmented frame, use `newframe = frame.copy()`\n",
      "  ret_log_df[i] = ret_log\n"
     ]
    },
    {
     "name": "stdout",
     "output_type": "stream",
     "text": [
      "[*********************100%%**********************]  1 of 1 completed\n"
     ]
    },
    {
     "name": "stderr",
     "output_type": "stream",
     "text": [
      "C:\\Users\\juan_\\AppData\\Local\\Temp\\ipykernel_34132\\4124913625.py:10: PerformanceWarning: DataFrame is highly fragmented.  This is usually the result of calling `frame.insert` many times, which has poor performance.  Consider joining all columns at once using pd.concat(axis=1) instead. To get a de-fragmented frame, use `newframe = frame.copy()`\n",
      "  ret_log_df[i] = ret_log\n"
     ]
    },
    {
     "name": "stdout",
     "output_type": "stream",
     "text": [
      "\r",
      "[*********************100%%**********************]  1 of 1 completed"
     ]
    },
    {
     "name": "stderr",
     "output_type": "stream",
     "text": [
      "\n",
      "1 Failed download:\n",
      "['MLIFT']: Exception('%ticker%: No timezone found, symbol may be delisted')\n"
     ]
    },
    {
     "name": "stdout",
     "output_type": "stream",
     "text": [
      "\n"
     ]
    }
   ],
   "source": [
    "%%capture\n",
    "start_date = \"2023-01-01\"\n",
    "end_date = \"2023-10-20\"\n",
    "# DataFrame para almacenar los retornos logarítmicos\n",
    "ret_log_df = pd.DataFrame()\n",
    "for i in Fund_Holding:\n",
    "    descarga = yf.download(i, start=start_date, end=end_date)\n",
    "    if not descarga.empty:\n",
    "        ret_log = np.log(descarga['Adj Close']).diff()\n",
    "        ret_log_df[i] = ret_log\n",
    "\n",
    "# Eliminar filas con NaN\n",
    "ret_log_df = ret_log_df.dropna(how='all')"
   ]
  },
  {
   "cell_type": "markdown",
   "id": "e7ff4bb7",
   "metadata": {},
   "source": [
    "<p>Now, I compute the covariance matrix</p>"
   ]
  },
  {
   "cell_type": "code",
   "execution_count": 4,
   "id": "6341fec8",
   "metadata": {},
   "outputs": [],
   "source": [
    "cov_matrix = ret_log_df.cov()"
   ]
  },
  {
   "cell_type": "markdown",
   "id": "a3b56c7f",
   "metadata": {},
   "source": [
    "<p>Given that the Markowitz method is a linear optimization algorithm, it becomes imperative to verify three crucial conditions. Firstly, the covariance matrix must exhibit symmetry. Secondly, it should be invertible, ensuring the existence of an inverse matrix. Finally, the eigenvalues of the covariance matrix must be greater than zero, ensuring its positive definiteness. These prerequisites are essential for the proper functioning of the Markowitz method in portfolio optimization.</p>\n",
    "<p>Symmetry comprobation:</p>"
   ]
  },
  {
   "cell_type": "code",
   "execution_count": 5,
   "id": "b91ec148",
   "metadata": {},
   "outputs": [
    {
     "name": "stdout",
     "output_type": "stream",
     "text": [
      "The matrix is symmetric:  True\n"
     ]
    }
   ],
   "source": [
    "es_simetrica = np.allclose(cov_matrix, cov_matrix.T)\n",
    "print('The matrix is symmetric: ', es_simetrica)"
   ]
  },
  {
   "cell_type": "markdown",
   "id": "f7a9a6e2",
   "metadata": {},
   "source": [
    "<p>In this case, the matrix is symmetric, so, it's possible to continue with the process.</p>\n",
    "<p>Eigenvalues comprobation:</p>"
   ]
  },
  {
   "cell_type": "code",
   "execution_count": 6,
   "id": "a8fc8955",
   "metadata": {
    "scrolled": true
   },
   "outputs": [
    {
     "name": "stdout",
     "output_type": "stream",
     "text": [
      "[ True  True  True  True  True  True  True  True  True  True  True  True\n",
      "  True  True  True  True  True  True  True  True  True  True  True  True\n",
      "  True  True  True  True  True  True  True  True  True  True  True  True\n",
      "  True  True  True  True  True  True  True  True  True  True  True  True\n",
      "  True  True  True  True  True  True  True  True  True  True  True  True\n",
      "  True  True  True  True  True  True  True  True  True  True  True  True\n",
      "  True  True  True  True  True  True  True  True  True  True  True  True\n",
      "  True  True  True  True  True  True  True  True  True  True  True  True\n",
      "  True  True  True  True  True  True]\n"
     ]
    }
   ],
   "source": [
    "Vpropios = np.linalg.eigvals(cov_matrix)\n",
    "Vprop = Vpropios>0\n",
    "print(Vprop)"
   ]
  },
  {
   "cell_type": "markdown",
   "id": "b0397cbb",
   "metadata": {},
   "source": [
    "<p>All the eigenvalues are greater than zero.</p>\n",
    "<p>Now, we just need to check if the matrix has an inverse matrix.</p>"
   ]
  },
  {
   "cell_type": "code",
   "execution_count": null,
   "id": "b8111d45",
   "metadata": {},
   "outputs": [],
   "source": [
    "det = np.linalg.det(cov_matrix)\n",
    "print('determinant: ', det)"
   ]
  },
  {
   "cell_type": "markdown",
   "id": "d67e103a",
   "metadata": {},
   "source": [
    "The determinant equating to zero signifies the absence of an inverse matrix for the covariance matrix. Consequently, the continuation of the Markowitz Theory process becomes unattainable.\n",
    "\n",
    "The lack of an inverse matrix in this context may point to redundant information or linear dependencies within the data. To illustrate this, we can calculate the correlation matrix and arrange the values of the upper triangle matrix in descending order."
   ]
  },
  {
   "cell_type": "code",
   "execution_count": null,
   "id": "7c17f2f3",
   "metadata": {},
   "outputs": [],
   "source": [
    "corr_matrix = ret_log_df.corr()\n",
    "upper_triangle = corr_matrix.where(np.triu(np.ones(corr_matrix.shape), k=1).astype(bool))\n",
    "highest_correlations = upper_triangle.stack().sort_values(ascending=False)\n",
    "print(highest_correlations)"
   ]
  },
  {
   "cell_type": "markdown",
   "id": "c51a7c72",
   "metadata": {},
   "source": [
    "It can be shown that there are very strong correlations. For example, let's plot the correlation between AMAT versus LRCX and SNPS versus CDNS."
   ]
  },
  {
   "cell_type": "code",
   "execution_count": null,
   "id": "df09b12a",
   "metadata": {},
   "outputs": [],
   "source": [
    "sns.scatterplot(x=\"AMAT\", y=\"LRCX\", data=ret_log_df, label=\"AMAT vs. LRCX\")\n",
    "sns.scatterplot(x=\"SNPS\", y=\"CDNS\", data=ret_log_df, label=\"SNPS vs. CDNS\")\n",
    "sns.regplot(x=\"AMAT\", y=\"LRCX\", data=ret_log_df, scatter=False)\n",
    "sns.regplot(x=\"SNPS\", y=\"CDNS\", data=ret_log_df, scatter=False)\n",
    "plt.title(\"Correlation Graph Between AMAT versus LRCX and SNPS versus CDNS\")\n",
    "plt.xlabel(\"AMAT, SNPS\")\n",
    "plt.ylabel(\"LRCX, CDNS\")\n",
    "plt.legend()\n",
    "plt.show()"
   ]
  },
  {
   "cell_type": "markdown",
   "id": "2aab4e76",
   "metadata": {},
   "source": [
    "There are definitely very strong correlations, but how many strong correlations are there?"
   ]
  },
  {
   "cell_type": "code",
   "execution_count": null,
   "id": "82208c7b",
   "metadata": {},
   "outputs": [],
   "source": [
    "strong_correlations=highest_correlations[highest_correlations>=0.6]\n",
    "print(strong_correlations)\n",
    "print(len(strong_correlations))"
   ]
  },
  {
   "cell_type": "markdown",
   "id": "c0c66689",
   "metadata": {},
   "source": [
    "It has been observed that there exist 137 robust correlations among 5151 relations, leading to a scenario where the determinant is precisely zero. This finding suggests a high degree of correlation and linear dependencies within the data. Now that we have identified this pattern, the next step is to delve into the underlying causes of these strong correlations and linear dependencies.\n",
    "As we said at the beginning, the composition of the index, is guided by non-financial companies listed on the Nasdaq Stock Market. So, it can be deduced that the composition could correlate in that way. Let's plot some graphs of the data gruoped by different categories. "
   ]
  },
  {
   "cell_type": "code",
   "execution_count": null,
   "id": "d3aa9a80",
   "metadata": {},
   "outputs": [],
   "source": [
    "sector = datosNasdaq['Sector'].value_counts()\n",
    "plt.subplot(1, 2, 1)\n",
    "sector.plot(kind='bar', figsize=(10, 6), color='skyblue')\n",
    "plt.title('Frecuency by sector')\n",
    "plt.xlabel('Sector')\n",
    "plt.ylabel('Frecuency')\n",
    "#plt.show()\n",
    "location = datosNasdaq['Location'].value_counts()\n",
    "plt.subplot(1, 2, 2)\n",
    "location.plot(kind='bar', figsize=(10, 6), color='skyblue')\n",
    "plt.title('Frecuency by Location')\n",
    "plt.xlabel('Location')\n",
    "plt.ylabel('Frecuency')\n",
    "plt.show()"
   ]
  },
  {
   "cell_type": "markdown",
   "id": "a0f10623",
   "metadata": {},
   "source": [
    "Considering that one of the key principles of the Markowitz Portfolio Theory is risk reduction through diversification across assets with low correlations, an analysis of the Nasdaq-100 portfolio reveals a deviation from this principle. Examining both graphs underscores a conspicuous concentration in the Information Technology sector and a geographical focus on the United States. This concentration implies a lack of diversification in both sectorial and country risk. The Nasdaq-100's substantial exposure to a specific sector and geographic region suggests a heightened vulnerability to adverse events within the technology industry and the United States, potentially amplifying risk rather than mitigating it.\n",
    "\n",
    "Now, let's explore if the portfolio has considerable company concentration. "
   ]
  },
  {
   "cell_type": "code",
   "execution_count": null,
   "id": "17c2992e",
   "metadata": {},
   "outputs": [],
   "source": [
    "print(datosNasdaq[[\"Name\",\"Weight (%)\"]].head())"
   ]
  },
  {
   "cell_type": "markdown",
   "id": "f8c34ac1",
   "metadata": {},
   "source": [
    "Apple INC and Microsoft Corp have an 11.02% and 9.9% of participation, respectivly. So, 2 companies, over 100, are the 20% of the portfolio. That shows an important concentration in 2 companies. But, what happen with the other participations? "
   ]
  },
  {
   "cell_type": "code",
   "execution_count": null,
   "id": "7314d18b",
   "metadata": {},
   "outputs": [],
   "source": [
    "#datosNasdaq[[\"Name\",\"Weight (%)\"]].head(11).plot(kind=\"bar\", figsize=(10, 6), color='skyblue')\n",
    "plt.bar(datosNasdaq[\"Name\"].head(11), datosNasdaq[\"Weight (%)\"].head(11))\n",
    "plt.title('Companies Participation')\n",
    "plt.xlabel('Companies')\n",
    "plt.ylabel('Weight (%)')\n",
    "plt.xticks(rotation=90)\n",
    "plt.show()"
   ]
  },
  {
   "cell_type": "code",
   "execution_count": null,
   "id": "7b69e999",
   "metadata": {
    "scrolled": true
   },
   "outputs": [],
   "source": [
    "print(datosNasdaq[\"Weight (%)\"].head(11).sum())"
   ]
  },
  {
   "cell_type": "markdown",
   "id": "e9693469",
   "metadata": {},
   "source": [
    "If we add the weights of the first 11 companies, we obtain a 50.91% of participation. It means that the 10% of the companies that comprise the Index are the 50% of participation. So, there is a high company concentration."
   ]
  },
  {
   "cell_type": "markdown",
   "id": "1960b5dd",
   "metadata": {},
   "source": [
    "This concentration suggests an elevated vulnerability to adverse events within the technology industry and the United States, potentially amplifying risk rather than mitigating it. Investors seeking a diversified portfolio to manage risk may need to consider complementary assets from different sectors and geographic regions to achieve a more balanced and resilient investment strategy."
   ]
  },
  {
   "cell_type": "markdown",
   "id": "6d6292ae",
   "metadata": {},
   "source": [
    "<h2>Conclusion</h2>\n",
    "\n",
    "In conclusion, the application of the Markowitz Portfolio Theory to the Nasdaq-100 index yields crucial insights into the risk and return dynamics of this prominent market indicator. The analysis of correlations among individual stocks exposes a notable prevalence of strong correlations, signifying a high level of interdependence and potential linear dependencies within the portfolio. Despite the robust nature of the Nasdaq-100, the identified concentration in the Information Technology sector and a geographic focus on the United States raises concerns about increased vulnerability to sector-specific and country-specific risks. The concentration in a select few companies, exemplified by the significant weightings of Apple Inc and Microsoft Corp, further underscores the risk profile, as a limited number of holdings exert substantial influence on the overall portfolio. As investors contemplate the inclusion of the Nasdaq-100 in their portfolios, these findings emphasize the imperative of implementing additional diversification strategies to effectively manage risk. In essence, while the Nasdaq-100 stands as a dynamic and influential index, an informed recognition of its concentrated nature becomes paramount for the construction of well-balanced and resilient investment portfolios."
   ]
  }
 ],
 "metadata": {
  "kernelspec": {
   "display_name": "Python 3 (ipykernel)",
   "language": "python",
   "name": "python3"
  },
  "language_info": {
   "codemirror_mode": {
    "name": "ipython",
    "version": 3
   },
   "file_extension": ".py",
   "mimetype": "text/x-python",
   "name": "python",
   "nbconvert_exporter": "python",
   "pygments_lexer": "ipython3",
   "version": "3.10.9"
  }
 },
 "nbformat": 4,
 "nbformat_minor": 5
}
